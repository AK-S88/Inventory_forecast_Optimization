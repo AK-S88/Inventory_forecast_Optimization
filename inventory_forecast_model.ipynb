{
 "cells": [
  {
   "cell_type": "markdown",
   "id": "2842c279",
   "metadata": {},
   "source": [
    "# Inventory Forecast Optimization Project\n",
    "This notebook demonstrates time series forecasting and KPI tracking using simulated supply chain data for inventory and demand forecasting."
   ]
  },
  {
   "cell_type": "code",
   "execution_count": null,
   "id": "4a80baa0",
   "metadata": {},
   "outputs": [],
   "source": [
    "import pandas as pd\n",
    "import numpy as np\n",
    "import matplotlib.pyplot as plt\n",
    "import seaborn as sns\n",
    "from datetime import datetime\n",
    "from statsmodels.tsa.arima.model import ARIMA\n",
    "from sklearn.metrics import mean_squared_error\n",
    "from sklearn.preprocessing import MinMaxScaler\n",
    "# TensorFlow imports (to be run in local/Colab)\n",
    "# from tensorflow.keras.models import Sequential\n",
    "# from tensorflow.keras.layers import LSTM, Dense\n"
   ]
  },
  {
   "cell_type": "markdown",
   "id": "a9377f9e",
   "metadata": {},
   "source": [
    "## Load and Preview Data"
   ]
  },
  {
   "cell_type": "code",
   "execution_count": null,
   "id": "e11cad9b",
   "metadata": {},
   "outputs": [],
   "source": [
    "# Load inventory and demand datasets\n",
    "inventory_df = pd.read_csv('inventory_data.csv')\n",
    "demand_df = pd.read_csv('demand_signals.csv')\n",
    "\n",
    "# Preview datasets\n",
    "display(inventory_df.head())\n",
    "display(demand_df.head())\n"
   ]
  },
  {
   "cell_type": "markdown",
   "id": "a97e99c6",
   "metadata": {},
   "source": [
    "## Merge Inventory and Demand Data for Analysis"
   ]
  },
  {
   "cell_type": "code",
   "execution_count": null,
   "id": "27e6e34b",
   "metadata": {},
   "outputs": [],
   "source": [
    "# Focus on one product for demonstration\n",
    "product_focus = 'A1'\n",
    "merged_df = pd.merge(demand_df, inventory_df, on='product_id')\n",
    "product_df = merged_df[merged_df['product_id'] == product_focus].copy()\n",
    "product_df['week'] = pd.to_datetime(product_df['week'])\n",
    "product_df.sort_values('week', inplace=True)\n"
   ]
  },
  {
   "cell_type": "markdown",
   "id": "028cc1b9",
   "metadata": {},
   "source": [
    "## Simulate Inventory Movement and Stockouts"
   ]
  },
  {
   "cell_type": "code",
   "execution_count": null,
   "id": "11204f97",
   "metadata": {},
   "outputs": [],
   "source": [
    "product_df['inventory_level'] = product_df['current_inventory'].iloc[0]\n",
    "product_df['order_placed'] = False\n",
    "product_df['stockout'] = False\n",
    "\n",
    "for i in range(1, len(product_df)):\n",
    "    demand = product_df.iloc[i]['demand_forecast']\n",
    "    prev_inventory = product_df.iloc[i-1]['inventory_level']\n",
    "    reorder_point = product_df.iloc[i]['reorder_point']\n",
    "    lead_time = product_df.iloc[i]['lead_time_days']\n",
    "    \n",
    "    inventory_level = prev_inventory - demand\n",
    "    if inventory_level < 0:\n",
    "        inventory_level = 0\n",
    "        product_df.loc[product_df.index[i], 'stockout'] = True\n",
    "\n",
    "    if inventory_level <= reorder_point and not product_df.iloc[i]['order_placed']:\n",
    "        arrival_index = i + lead_time if i + lead_time < len(product_df) else -1\n",
    "        product_df.loc[product_df.index[arrival_index], 'inventory_level'] += product_df.iloc[i]['safety_stock']\n",
    "        product_df.loc[product_df.index[i], 'order_placed'] = True\n",
    "\n",
    "    product_df.loc[product_df.index[i], 'inventory_level'] = inventory_level\n"
   ]
  },
  {
   "cell_type": "markdown",
   "id": "ef5fb294",
   "metadata": {},
   "source": [
    "## Calculate Key Performance Indicators (KPIs)"
   ]
  },
  {
   "cell_type": "code",
   "execution_count": null,
   "id": "9e742f8b",
   "metadata": {},
   "outputs": [],
   "source": [
    "stockout_rate = product_df['stockout'].mean()\n",
    "average_inventory = product_df['inventory_level'].mean()\n",
    "reorder_frequency = product_df['order_placed'].sum()\n",
    "service_level = 1 - stockout_rate\n",
    "\n",
    "kpi_summary = pd.DataFrame({\n",
    "    'KPI': ['Stockout Rate', 'Average Inventory Level', 'Reorder Frequency', 'Service Level'],\n",
    "    'Value': [f\"{stockout_rate:.2%}\", f\"{average_inventory:.2f} units\", reorder_frequency, f\"{service_level:.2%}\"],\n",
    "    'Definition': [\n",
    "        \"Percentage of weeks when demand could not be fully met due to insufficient inventory.\",\n",
    "        \"Average inventory units available across all weeks.\",\n",
    "        \"Total number of times a reorder was triggered due to inventory falling below reorder point.\",\n",
    "        \"Percentage of weeks with no stockouts—indicates how well demand was served.\"\n",
    "    ]\n",
    "})\n",
    "display(kpi_summary)\n"
   ]
  },
  {
   "cell_type": "markdown",
   "id": "b4ff5c0b",
   "metadata": {},
   "source": [
    "## Visualize KPIs"
   ]
  },
  {
   "cell_type": "code",
   "execution_count": null,
   "id": "3611378c",
   "metadata": {},
   "outputs": [],
   "source": [
    "plt.figure(figsize=(10, 6))\n",
    "kpi_values_fixed = [float(v.strip('%').replace(' units', '')) if isinstance(v, str) else float(v) for v in kpi_summary['Value']]\n",
    "bars = plt.bar(kpi_summary['KPI'], kpi_values_fixed, color=['red', 'blue', 'green', 'orange'])\n",
    "plt.title('Key Performance Indicators (KPIs) for Product A1')\n",
    "plt.ylabel('Value')\n",
    "for bar in bars:\n",
    "    yval = bar.get_height()\n",
    "    plt.text(bar.get_x() + bar.get_width()/2.0, yval + 0.5, f'{yval:.2f}', ha='center', va='bottom')\n",
    "plt.grid(axis='y', linestyle='--', alpha=0.7)\n",
    "plt.tight_layout()\n",
    "plt.show()\n"
   ]
  },
  {
   "cell_type": "markdown",
   "id": "25d27845",
   "metadata": {},
   "source": [
    "## Forecast Demand using ARIMA"
   ]
  },
  {
   "cell_type": "code",
   "execution_count": null,
   "id": "e0400f4a",
   "metadata": {},
   "outputs": [],
   "source": [
    "demand_series = product_df.set_index('week')['demand_forecast']\n",
    "train_size = int(len(demand_series) * 0.8)\n",
    "train, test = demand_series[:train_size], demand_series[train_size:]\n",
    "\n",
    "model = ARIMA(train, order=(1, 1, 1))\n",
    "model_fit = model.fit()\n",
    "forecast = model_fit.forecast(steps=len(test))\n",
    "rmse = np.sqrt(mean_squared_error(test, forecast))\n",
    "\n",
    "plt.figure(figsize=(14, 6))\n",
    "plt.plot(train.index, train, label='Training Data')\n",
    "plt.plot(test.index, test, label='Actual Demand (Test)', color='green')\n",
    "plt.plot(test.index, forecast, label='ARIMA Forecast', color='red', linestyle='--')\n",
    "plt.title(f'ARIMA Demand Forecast for Product A1\\nRMSE: {rmse:.2f}')\n",
    "plt.xlabel('Week')\n",
    "plt.ylabel('Forecasted Demand')\n",
    "plt.legend()\n",
    "plt.grid(True)\n",
    "plt.tight_layout()\n",
    "plt.show()\n"
   ]
  },
  {
   "cell_type": "markdown",
   "id": "04f7620f",
   "metadata": {},
   "source": [
    "## (Optional) Forecast Demand using LSTM\n",
    "> Note: This section requires TensorFlow to be installed. Run in Google Colab or local Python environment."
   ]
  },
  {
   "cell_type": "code",
   "execution_count": null,
   "id": "f7b0972c",
   "metadata": {},
   "outputs": [],
   "source": [
    "# Uncomment to use:\n",
    "# lstm_data = demand_series.values.reshape(-1, 1)\n",
    "# scaler = MinMaxScaler()\n",
    "# scaled_data = scaler.fit_transform(lstm_data)\n",
    "\n",
    "# def create_sequences(data, lookback=4):\n",
    "#     X, y = [], []\n",
    "#     for i in range(len(data) - lookback):\n",
    "#         X.append(data[i:i + lookback])\n",
    "#         y.append(data[i + lookback])\n",
    "#     return np.array(X), np.array(y)\n",
    "\n",
    "# lookback = 4\n",
    "# X, y = create_sequences(scaled_data, lookback)\n",
    "# split_index = int(0.8 * len(X))\n",
    "# X_train, X_test = X[:split_index], X[split_index:]\n",
    "# y_train, y_test = y[:split_index], y[split_index:]\n",
    "\n",
    "# model = Sequential()\n",
    "# model.add(LSTM(units=50, activation='relu', input_shape=(lookback, 1)))\n",
    "# model.add(Dense(1))\n",
    "# model.compile(optimizer='adam', loss='mean_squared_error')\n",
    "# model.fit(X_train, y_train, epochs=50, batch_size=4, verbose=0)\n",
    "\n",
    "# y_pred = model.predict(X_test)\n",
    "# y_pred_inverse = scaler.inverse_transform(y_pred)\n",
    "# y_test_inverse = scaler.inverse_transform(y_test)\n",
    "\n",
    "# test_weeks = product_df['week'].iloc[lookback + split_index:lookback + split_index + len(y_pred)]\n",
    "# plt.figure(figsize=(14, 6))\n",
    "# plt.plot(test_weeks, y_test_inverse, label='Actual Demand (Test)', color='green')\n",
    "# plt.plot(test_weeks, y_pred_inverse, label='LSTM Forecast', color='purple', linestyle='--')\n",
    "# plt.title('LSTM Demand Forecast for Product A1')\n",
    "# plt.xlabel('Week')\n",
    "# plt.ylabel('Forecasted Demand')\n",
    "# plt.legend()\n",
    "# plt.grid(True)\n",
    "# plt.tight_layout()\n",
    "# plt.show()\n"
   ]
  }
 ],
 "metadata": {},
 "nbformat": 4,
 "nbformat_minor": 5
}
